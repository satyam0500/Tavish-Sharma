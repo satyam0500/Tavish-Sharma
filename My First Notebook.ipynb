{
    "nbformat_minor": 1, 
    "cells": [
        {
            "source": "## Week 3, Lab assignment \n### James Cage 03/23/19", 
            "cell_type": "markdown", 
            "metadata": {
                "collapsed": true
            }
        }, 
        {
            "source": "## XKCD - Squirrelphone\n![alt text](https://imgs.xkcd.com/comics/squirrelphone.png \"After a while, the squirrel starts making that beeping noise and doesn't stop until it hops back up onto the stump.\")", 
            "cell_type": "markdown", 
            "metadata": {}
        }, 
        {
            "execution_count": 15, 
            "cell_type": "code", 
            "metadata": {}, 
            "outputs": [], 
            "source": "# Some python code\nclass Parent():\n    def __init__(self,last_name, eye_color):\n        print(\"Parent Constructor Called\")\n        self.last_name = last_name\n        self.eye_color = eye_color\n\n    def show_info(self):\n        print(self.last_name + \" \" + self.eye_color)"
        }, 
        {
            "execution_count": 16, 
            "cell_type": "code", 
            "metadata": {}, 
            "outputs": [], 
            "source": "class Child(Parent):\n    def __init__(self, last_name, eye_color, number_of_toys):\n        print(\"Child Constructor Called\")\n        Parent.__init__(self, last_name, eye_color)\n        self.number_of_toys = number_of_toys\n\n    def show_info(self):\n        print(\"Likes disney shows\")"
        }, 
        {
            "execution_count": 17, 
            "cell_type": "code", 
            "metadata": {}, 
            "outputs": [
                {
                    "output_type": "stream", 
                    "name": "stdout", 
                    "text": "Parent Constructor Called\nChild Constructor Called\nParent Constructor Called\n"
                }
            ], 
            "source": "billy = Parent(\"Cyrus\", \"blue\")\nmiley = Child(\"Cyrus\", \"blue\", 5)"
        }, 
        {
            "execution_count": 18, 
            "cell_type": "code", 
            "metadata": {}, 
            "outputs": [
                {
                    "output_type": "stream", 
                    "name": "stdout", 
                    "text": "Likes disney shows\n"
                }
            ], 
            "source": "miley.show_info()"
        }, 
        {
            "execution_count": 19, 
            "cell_type": "code", 
            "metadata": {}, 
            "outputs": [], 
            "source": "def goodbye():\n    print(\"See You Later!\")"
        }, 
        {
            "execution_count": 20, 
            "cell_type": "code", 
            "metadata": {}, 
            "outputs": [], 
            "source": "miley.show_info = goodbye"
        }, 
        {
            "execution_count": 21, 
            "cell_type": "code", 
            "metadata": {}, 
            "outputs": [
                {
                    "output_type": "stream", 
                    "name": "stdout", 
                    "text": "See You Later!\n"
                }
            ], 
            "source": "miley.show_info()"
        }, 
        {
            "execution_count": null, 
            "cell_type": "code", 
            "metadata": {}, 
            "outputs": [], 
            "source": ""
        }
    ], 
    "metadata": {
        "kernelspec": {
            "display_name": "Python 3.5", 
            "name": "python3", 
            "language": "python"
        }, 
        "language_info": {
            "mimetype": "text/x-python", 
            "nbconvert_exporter": "python", 
            "version": "3.5.5", 
            "name": "python", 
            "file_extension": ".py", 
            "pygments_lexer": "ipython3", 
            "codemirror_mode": {
                "version": 3, 
                "name": "ipython"
            }
        }
    }, 
    "nbformat": 4
}